{
 "cells": [
  {
   "cell_type": "code",
   "execution_count": 85,
   "id": "b4329799-a0d7-49fa-a2e3-88ad807f82cf",
   "metadata": {},
   "outputs": [],
   "source": [
    "import h5py\n",
    "import PIL.Image as I\n",
    "import numpy as np\n",
    "import matplotlib.pyplot as plt\n",
    "import sys\n",
    "\n",
    "#tarea modelado\n",
    "\n",
    "\n",
    "def load_and_train( opts ):\n",
    "    def nll( g, Y ):\n",
    "        return -(Y * np.log(g) + (1 - Y) * np.log( 1-g ) ).flatten().sum()\n",
    "    def sd( a ):\n",
    "        return 1/(1 + np.exp(-a))\n",
    "    def add1dims(X):\n",
    "        return np.hstack( (X, np.ones((X.shape[0], 1)) ))\n",
    "    def predict(X, w, add_dims=True):\n",
    "        if add_dims: X = add1dims(X)\n",
    "        return sd( X@w )\n",
    "\n",
    "    \n",
    "    trainX = trainY = None\n",
    "    classes = None\n",
    "    with h5py.File(opts['h5_file_path'], 'r') as f:\n",
    "        trainX = f['train_set_x'][:]\n",
    "        trainY = f['train_set_y'][:]\n",
    "        classes = f['list_classes'][:].astype(str)\n",
    "    \n",
    "        \n",
    "        X = trainX.reshape( [209, 64*64*3] ).astype(float) / 255\n",
    "        Y = trainY[:, None].astype(float)\n",
    "\n",
    "    X = add1dims(X)\n",
    "    w = np.random.randn( X.shape[1], 1 )\n",
    "    K = 1\n",
    "    if opts['normalize_grad']:\n",
    "        K = X.shape[0]\n",
    "\n",
    "    losses = []\n",
    "    _lda = opts['pred_bound']\n",
    "    lr = opts['lr']\n",
    "    for i in range(opts['epochs']):\n",
    "        g = predict(X, w, add_dims=False)\n",
    "        g = np.clip(g, _lda, 1-_lda)\n",
    "        #print(g.shape)\n",
    "        #print(X.T.shape, np.diag( g * (g- 1) ).shape, X.shape)\n",
    "        gradW = X.T@(Y - g)\n",
    "        w = w + lr/K * gradW\n",
    "        loss = nll(g, Y)\n",
    "        losses.append(loss)\n",
    "        if i > 1 and abs( (losses[i]-losses[i-1])/losses[i] ) < opts['eps']:\n",
    "            break\n",
    "        if opts['verbose']:\n",
    "            sys.stdout.write(f\"\\rEpoch { i+1 }/{ opts['epochs'] }, Last Error: {losses[i]:.2f}\")\n",
    "            \n",
    "    def class_predict( X, w, add_dims=True ):\n",
    "        if len(X.shape) > 2:\n",
    "            X = X.reshape( [-1, 64 * 64 * 3] )\n",
    "        return (predict( X, w, add_dims ) > .5).astype(int)\n",
    "\n",
    "    def image_predict( path, w ):\n",
    "        img =  np.array(I.open(path).resize([64, 64])).astype(float)[ None, :, :, : ]\n",
    "        if np.max(img) > 1:\n",
    "            img = img / 255\n",
    "        return class_predict( img, w, add_dims=True ).flatten()\n",
    "\n",
    "    accuracy = np.sum(class_predict( X, w, False ) == Y)/X.shape[0]\n",
    "    return w, losses, class_predict, predict, image_predict, accuracy\n",
    "    \n",
    "\n",
    "    \n",
    "        \n"
   ]
  },
  {
   "cell_type": "code",
   "execution_count": 82,
   "id": "f0a1462b-dd94-4107-b9fb-dca86d90dc06",
   "metadata": {},
   "outputs": [
    {
     "name": "stdout",
     "output_type": "stream",
     "text": [
      "Epoch 1500/1500, Last Error: 162.08"
     ]
    },
    {
     "data": {
      "text/plain": [
       "Text(0.5, 1.0, '82% Correctos')"
      ]
     },
     "execution_count": 82,
     "metadata": {},
     "output_type": "execute_result"
    },
    {
     "data": {
      "image/png": "[encoded data removed]",
      "text/plain": [
       "<Figure size 640x480 with 1 Axes>"
      ]
     },
     "metadata": {},
     "output_type": "display_data"
    }
   ],
   "source": [
    "opts = {\n",
    "    'h5_file_path': r'C:\\Users\\jb\\Downloads\\gatillos_train.h5',\n",
    "    'normalize_grad': True, \n",
    "    'eps': 1e-7,\n",
    "    'pred_bound': 0.001,\n",
    "    'epochs': 1500,\n",
    "    'verbose': True,\n",
    "    'lr': 0.01\n",
    "}\n",
    "# 1 Gato\n",
    "# 0 No Gato\n",
    "\n",
    "w, losses, class_predict, predict, image_predict,  accuracy = load_and_train( opts )\n",
    "plt.plot(losses)\n",
    "plt.title(F'{accuracy*100:.0f}% Correctos')"
   ]
  },
  {
   "cell_type": "code",
   "execution_count": 84,
   "id": "cfb66ce2-c585-4a90-92b6-f462572c92d6",
   "metadata": {},
   "outputs": [
    {
     "data": {
      "text/plain": [
       "array([0])"
      ]
     },
     "execution_count": 84,
     "metadata": {},
     "output_type": "execute_result"
    }
   ],
   "source": [
    "image_predict(r'C:\\Users\\jb\\Downloads\\goku_yardrat.jpg', w)"
   ]
  }
 ],
 "metadata": {
  "kernelspec": {
   "display_name": "Python 3 (ipykernel)",
   "language": "python",
   "name": "python3"
  },
  "language_info": {
   "codemirror_mode": {
    "name": "ipython",
    "version": 3
   },
   "file_extension": ".py",
   "mimetype": "text/x-python",
   "name": "python",
   "nbconvert_exporter": "python",
   "pygments_lexer": "ipython3",
   "version": "3.12.4"
  }
 },
 "nbformat": 4,
 "nbformat_minor": 5
}
